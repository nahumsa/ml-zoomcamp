{
 "cells": [
  {
   "cell_type": "markdown",
   "metadata": {},
   "source": [
    "# 0) Importing the libraries"
   ]
  },
  {
   "cell_type": "code",
   "execution_count": 111,
   "metadata": {},
   "outputs": [],
   "source": [
    "import matplotlib.pyplot as plt\n",
    "import numpy as np\n",
    "import pandas as pd\n",
    "import seaborn as sns\n",
    "from pathlib import Path\n",
    "\n",
    "sns.set()\n",
    "\n",
    "credit_card_path = Path(\"..\", \"data\", \"AER_credit_card_data.csv\")\n",
    "df = pd.read_csv(credit_card_path)"
   ]
  },
  {
   "cell_type": "markdown",
   "metadata": {},
   "source": [
    "Data preparation: \n",
    "- Create the target variable by mapping yes to 1 and no to 0.\n",
    "- Split the dataset into 3 parts: train/validation/test with 60%/20%/20% distribution. Use `train_test_split` funciton for that with `random_state=1`."
   ]
  },
  {
   "cell_type": "code",
   "execution_count": 112,
   "metadata": {},
   "outputs": [
    {
     "data": {
      "text/html": [
       "<div>\n",
       "<style scoped>\n",
       "    .dataframe tbody tr th:only-of-type {\n",
       "        vertical-align: middle;\n",
       "    }\n",
       "\n",
       "    .dataframe tbody tr th {\n",
       "        vertical-align: top;\n",
       "    }\n",
       "\n",
       "    .dataframe thead th {\n",
       "        text-align: right;\n",
       "    }\n",
       "</style>\n",
       "<table border=\"1\" class=\"dataframe\">\n",
       "  <thead>\n",
       "    <tr style=\"text-align: right;\">\n",
       "      <th></th>\n",
       "      <th>target</th>\n",
       "      <th>card</th>\n",
       "    </tr>\n",
       "  </thead>\n",
       "  <tbody>\n",
       "    <tr>\n",
       "      <th>0</th>\n",
       "      <td>1</td>\n",
       "      <td>yes</td>\n",
       "    </tr>\n",
       "    <tr>\n",
       "      <th>1</th>\n",
       "      <td>1</td>\n",
       "      <td>yes</td>\n",
       "    </tr>\n",
       "    <tr>\n",
       "      <th>2</th>\n",
       "      <td>1</td>\n",
       "      <td>yes</td>\n",
       "    </tr>\n",
       "    <tr>\n",
       "      <th>3</th>\n",
       "      <td>1</td>\n",
       "      <td>yes</td>\n",
       "    </tr>\n",
       "    <tr>\n",
       "      <th>4</th>\n",
       "      <td>1</td>\n",
       "      <td>yes</td>\n",
       "    </tr>\n",
       "    <tr>\n",
       "      <th>5</th>\n",
       "      <td>1</td>\n",
       "      <td>yes</td>\n",
       "    </tr>\n",
       "    <tr>\n",
       "      <th>6</th>\n",
       "      <td>1</td>\n",
       "      <td>yes</td>\n",
       "    </tr>\n",
       "    <tr>\n",
       "      <th>7</th>\n",
       "      <td>1</td>\n",
       "      <td>yes</td>\n",
       "    </tr>\n",
       "    <tr>\n",
       "      <th>8</th>\n",
       "      <td>1</td>\n",
       "      <td>yes</td>\n",
       "    </tr>\n",
       "    <tr>\n",
       "      <th>9</th>\n",
       "      <td>1</td>\n",
       "      <td>yes</td>\n",
       "    </tr>\n",
       "  </tbody>\n",
       "</table>\n",
       "</div>"
      ],
      "text/plain": [
       "   target card\n",
       "0       1  yes\n",
       "1       1  yes\n",
       "2       1  yes\n",
       "3       1  yes\n",
       "4       1  yes\n",
       "5       1  yes\n",
       "6       1  yes\n",
       "7       1  yes\n",
       "8       1  yes\n",
       "9       1  yes"
      ]
     },
     "execution_count": 112,
     "metadata": {},
     "output_type": "execute_result"
    }
   ],
   "source": [
    "df[\"target\"] = df[\"card\"].apply(lambda x: 1 if (x == \"yes\") else 0)\n",
    "df[[\"target\", \"card\"]].head(10)"
   ]
  },
  {
   "cell_type": "code",
   "execution_count": 113,
   "metadata": {},
   "outputs": [],
   "source": [
    "from sklearn.model_selection import train_test_split\n",
    "\n",
    "df_full_train, df_test = train_test_split(df, test_size=0.2, random_state=1)\n",
    "df_train, df_valid = train_test_split(df_full_train, test_size=0.25, random_state=1)"
   ]
  },
  {
   "cell_type": "markdown",
   "metadata": {},
   "source": [
    "# 1) Question 1\n",
    "\n",
    "ROC AUC could also be used to evaluate feature importance of numerical variables.\n",
    "\n",
    "Let's do that\n",
    "\n",
    "- For each numerical variable, use it as score and compute AUC with the card variable.\n",
    "- Use the training dataset for that.\n",
    "\n",
    "\n",
    "Which numerical variable (among the following 4) has the highest AUC?\n",
    "\n",
    "- [ ] reports\n",
    "- [ ] dependents\n",
    "- [ ] active\n",
    "- [X] share"
   ]
  },
  {
   "cell_type": "code",
   "execution_count": 114,
   "metadata": {},
   "outputs": [
    {
     "name": "stdout",
     "output_type": "stream",
     "text": [
      "reports: 0.28333701393106236\n",
      "dependents: 0.46722427722262094\n",
      "active: 0.6043173411362006\n",
      "share: 0.989183643423692\n"
     ]
    }
   ],
   "source": [
    "from sklearn.metrics import roc_auc_score\n",
    "numeric_variables = [\"reports\", \"dependents\", \"active\", \"share\"]\n",
    "\n",
    "for feature in numeric_variables:\n",
    "    result = roc_auc_score(df_train[\"target\"], df_train[feature])\n",
    "    print(f\"{feature}: {abs(result)}\")"
   ]
  },
  {
   "cell_type": "markdown",
   "metadata": {},
   "source": [
    "# Training the model\n",
    "From now on, use these columns only:\n",
    "\n",
    "```\n",
    "[\"reports\", \"age\", \"income\", \"share\", \"expenditure\", \"dependents\", \"months\", \"majorcards\", \"active\", \"owner\", \"selfemp\"]\n",
    "```\n",
    "\n",
    "Apply one-hot-encoding using `DictVectorizer` and train the logistic regression with these parameters:\n",
    "\n",
    "```\n",
    "LogisticRegression(solver='liblinear', C=1.0, max_iter=1000)\n",
    "```"
   ]
  },
  {
   "cell_type": "code",
   "execution_count": 115,
   "metadata": {},
   "outputs": [],
   "source": [
    "model_cols = [\"reports\", \"age\", \"income\", \"share\", \"expenditure\",\n",
    "              \"dependents\", \"months\", \"majorcards\", \"active\", \"owner\",\n",
    "              \"selfemp\"]\n",
    "\n",
    "y_train, y_valid, y_test = map(lambda x: x[\"target\"].values, [df_train, df_valid, df_test])\n",
    "df_train, df_valid, df_test = map(lambda x: x[model_cols], [df_train, df_valid, df_test])"
   ]
  },
  {
   "cell_type": "code",
   "execution_count": 116,
   "metadata": {},
   "outputs": [
    {
     "data": {
      "text/html": [
       "<div>\n",
       "<style scoped>\n",
       "    .dataframe tbody tr th:only-of-type {\n",
       "        vertical-align: middle;\n",
       "    }\n",
       "\n",
       "    .dataframe tbody tr th {\n",
       "        vertical-align: top;\n",
       "    }\n",
       "\n",
       "    .dataframe thead th {\n",
       "        text-align: right;\n",
       "    }\n",
       "</style>\n",
       "<table border=\"1\" class=\"dataframe\">\n",
       "  <thead>\n",
       "    <tr style=\"text-align: right;\">\n",
       "      <th></th>\n",
       "      <th>reports</th>\n",
       "      <th>age</th>\n",
       "      <th>income</th>\n",
       "      <th>share</th>\n",
       "      <th>expenditure</th>\n",
       "      <th>dependents</th>\n",
       "      <th>months</th>\n",
       "      <th>majorcards</th>\n",
       "      <th>active</th>\n",
       "      <th>owner</th>\n",
       "      <th>selfemp</th>\n",
       "    </tr>\n",
       "  </thead>\n",
       "  <tbody>\n",
       "    <tr>\n",
       "      <th>1105</th>\n",
       "      <td>3</td>\n",
       "      <td>40.50000</td>\n",
       "      <td>4.0128</td>\n",
       "      <td>0.000299</td>\n",
       "      <td>0.00000</td>\n",
       "      <td>1</td>\n",
       "      <td>12</td>\n",
       "      <td>1</td>\n",
       "      <td>17</td>\n",
       "      <td>no</td>\n",
       "      <td>no</td>\n",
       "    </tr>\n",
       "    <tr>\n",
       "      <th>431</th>\n",
       "      <td>1</td>\n",
       "      <td>32.33333</td>\n",
       "      <td>6.0000</td>\n",
       "      <td>0.000200</td>\n",
       "      <td>0.00000</td>\n",
       "      <td>4</td>\n",
       "      <td>18</td>\n",
       "      <td>1</td>\n",
       "      <td>4</td>\n",
       "      <td>yes</td>\n",
       "      <td>no</td>\n",
       "    </tr>\n",
       "    <tr>\n",
       "      <th>407</th>\n",
       "      <td>1</td>\n",
       "      <td>29.16667</td>\n",
       "      <td>2.2000</td>\n",
       "      <td>0.038205</td>\n",
       "      <td>69.79333</td>\n",
       "      <td>0</td>\n",
       "      <td>49</td>\n",
       "      <td>1</td>\n",
       "      <td>7</td>\n",
       "      <td>no</td>\n",
       "      <td>no</td>\n",
       "    </tr>\n",
       "    <tr>\n",
       "      <th>1217</th>\n",
       "      <td>1</td>\n",
       "      <td>54.66667</td>\n",
       "      <td>7.2900</td>\n",
       "      <td>0.106536</td>\n",
       "      <td>647.20670</td>\n",
       "      <td>2</td>\n",
       "      <td>78</td>\n",
       "      <td>1</td>\n",
       "      <td>9</td>\n",
       "      <td>yes</td>\n",
       "      <td>no</td>\n",
       "    </tr>\n",
       "    <tr>\n",
       "      <th>1133</th>\n",
       "      <td>0</td>\n",
       "      <td>25.00000</td>\n",
       "      <td>3.3984</td>\n",
       "      <td>0.000353</td>\n",
       "      <td>0.00000</td>\n",
       "      <td>2</td>\n",
       "      <td>29</td>\n",
       "      <td>0</td>\n",
       "      <td>4</td>\n",
       "      <td>yes</td>\n",
       "      <td>no</td>\n",
       "    </tr>\n",
       "  </tbody>\n",
       "</table>\n",
       "</div>"
      ],
      "text/plain": [
       "      reports       age  income     share  expenditure  dependents  months  \\\n",
       "1105        3  40.50000  4.0128  0.000299      0.00000           1      12   \n",
       "431         1  32.33333  6.0000  0.000200      0.00000           4      18   \n",
       "407         1  29.16667  2.2000  0.038205     69.79333           0      49   \n",
       "1217        1  54.66667  7.2900  0.106536    647.20670           2      78   \n",
       "1133        0  25.00000  3.3984  0.000353      0.00000           2      29   \n",
       "\n",
       "      majorcards  active owner selfemp  \n",
       "1105           1      17    no      no  \n",
       "431            1       4   yes      no  \n",
       "407            1       7    no      no  \n",
       "1217           1       9   yes      no  \n",
       "1133           0       4   yes      no  "
      ]
     },
     "execution_count": 116,
     "metadata": {},
     "output_type": "execute_result"
    }
   ],
   "source": [
    "df_train.head()"
   ]
  },
  {
   "cell_type": "code",
   "execution_count": 117,
   "metadata": {},
   "outputs": [],
   "source": [
    "from sklearn.linear_model import LogisticRegression\n",
    "\n",
    "model = LogisticRegression(solver='liblinear', C=1.0, max_iter=1000)"
   ]
  },
  {
   "cell_type": "code",
   "execution_count": 118,
   "metadata": {},
   "outputs": [],
   "source": [
    "from sklearn.feature_extraction import DictVectorizer\n",
    "\n",
    "dv = DictVectorizer()\n",
    "train_dicts = df_train.to_dict(orient=\"records\")\n",
    "valid_dicts = df_valid.to_dict(orient=\"records\")\n",
    "X_train = dv.fit_transform(train_dicts)\n",
    "X_valid = dv.transform(valid_dicts)"
   ]
  },
  {
   "cell_type": "markdown",
   "metadata": {},
   "source": [
    "# 2) Question 2\n",
    "\n",
    "What's the AUC of this model on the validation dataset? (round to 3 digits)\n",
    "\n",
    "- [ ] 0.615\n",
    "- [ ] 0.515\n",
    "- [ ] 0.715\n",
    "- [X] 0.995\n"
   ]
  },
  {
   "cell_type": "code",
   "execution_count": 119,
   "metadata": {},
   "outputs": [
    {
     "name": "stdout",
     "output_type": "stream",
     "text": [
      "AUC: 0.995\n"
     ]
    }
   ],
   "source": [
    "model.fit(X_train, y_train)\n",
    "y_prob_valid = model.predict_proba(X_valid)[:, 1]\n",
    "print(f\"AUC: {round(roc_auc_score(y_valid, y_prob_valid), 3)}\")"
   ]
  },
  {
   "cell_type": "markdown",
   "metadata": {},
   "source": [
    "# 3) Question 3\n",
    "\n",
    "Now let's compute precision and recall for our model.\n",
    "\n",
    "- Evaluate the model on the validation dataset on all thresholds from 0.0 to 1.0 with step 0.01\n",
    "- For each threshold, compute precision and recall\n",
    "- Plot them\n",
    "\n",
    "At which threshold precision and recall curves intersect?\n",
    "\n",
    "- [ ] 0.1\n",
    "- [X] 0.3\n",
    "- [ ] 0.6\n",
    "- [ ] 0.8"
   ]
  },
  {
   "cell_type": "code",
   "execution_count": 120,
   "metadata": {},
   "outputs": [
    {
     "data": {
      "image/png": "[encoded data removed]",
      "text/plain": [
       "<Figure size 640x480 with 1 Axes>"
      ]
     },
     "metadata": {},
     "output_type": "display_data"
    }
   ],
   "source": [
    "from sklearn.metrics import precision_score, recall_score\n",
    "\n",
    "list_thresholds = np.arange(0.0, 1.0, 0.01)\n",
    "precision_list = []\n",
    "recall_list = []\n",
    "for threshold in list_thresholds:\n",
    "    pred = y_prob_valid >= threshold\n",
    "    precision = precision_score(y_valid, pred)\n",
    "    recall = recall_score(y_valid, pred)\n",
    "    precision_list.append(precision)\n",
    "    recall_list.append(recall)\n",
    "\n",
    "equal_precision_recall = list_thresholds[np.argmax(np.array(precision_list) == np.array(recall_list))]\n",
    "plt.plot(list_thresholds, precision_list, label=\"Precision\")\n",
    "plt.plot(list_thresholds, recall_list, label=\"Recall\")\n",
    "plt.vlines(x=equal_precision_recall, ymin=0.8,\n",
    "           ymax=1, color = 'red', label=\"Precision = Recall\")\n",
    "plt.legend()\n",
    "plt.show()"
   ]
  },
  {
   "cell_type": "markdown",
   "metadata": {},
   "source": [
    "# 4) Question 4\n",
    "\n",
    "Let's compute F1 for all thresholds from 0.0 to 1.0 with increment 0.01 using the validation set\n",
    "\n",
    "At which threshold F1 is maximal?\n",
    "\n",
    "- [ ] 0.1\n",
    "- [X] 0.4\n",
    "- [ ] 0.6\n",
    "- [ ] 0.7"
   ]
  },
  {
   "cell_type": "code",
   "execution_count": 121,
   "metadata": {},
   "outputs": [
    {
     "data": {
      "image/png": "[encoded data removed]",
      "text/plain": [
       "<Figure size 640x480 with 1 Axes>"
      ]
     },
     "metadata": {},
     "output_type": "display_data"
    }
   ],
   "source": [
    "from sklearn.metrics import f1_score\n",
    "\n",
    "list_thresholds = np.arange(0.0, 1.0, 0.01)\n",
    "f1_list = []\n",
    "for threshold in list_thresholds:\n",
    "    pred = y_prob_valid >= threshold\n",
    "    f1 = f1_score(y_valid, pred)\n",
    "    f1_list.append(f1)\n",
    "\n",
    "plt.plot(list_thresholds, f1_list, label=\"F1 score\")\n",
    "\n",
    "plt.vlines(x=list_thresholds[np.argmax(f1_list)], ymin=0.89,\n",
    "           ymax=1, color = 'red', label=\"Max F1 score\")\n",
    "\n",
    "plt.legend()\n",
    "plt.show()"
   ]
  },
  {
   "cell_type": "markdown",
   "metadata": {},
   "source": [
    "# Question 5\n",
    "\n",
    "Use the KFold class from Scikit-Learn to evaluate our model on 5 different folds:\n",
    "\n",
    "```\n",
    "KFold(n_splits=5, shuffle=True, random_state=1)\n",
    "```\n",
    "\n",
    "- Iterate over different folds of df_full_train\n",
    "- Split the data into train and validation\n",
    "- Train the model on train with these parameters: LogisticRegression(solver='liblinear', C=1.0, max_iter=1000)\n",
    "- Use AUC to evaluate the model on validation\n",
    "\n",
    "How large is standard devidation of the AUC scores across different folds?\n",
    "\n",
    "- [ ] 0.003\n",
    "- [ ] 0.014\n",
    "- [ ] 0.09\n",
    "- [ ] 0.24\n"
   ]
  },
  {
   "cell_type": "code",
   "execution_count": 129,
   "metadata": {},
   "outputs": [],
   "source": [
    "from typing import Tuple, Protocol\n",
    "\n",
    "class ScikitModel(Protocol):\n",
    "    def fit(self, X, y, sample_weight=None): ...\n",
    "    def predict(self, X): ...\n",
    "\n",
    "\n",
    "def train_model(df_train: pd.DataFrame,y_train: pd.DataFrame, model: ScikitModel\n",
    "                ) -> Tuple[DictVectorizer, ScikitModel]:\n",
    "    \n",
    "    dicts = df_train.to_dict(orient=\"records\")\n",
    "    dv = DictVectorizer()\n",
    "    X_train = dv.fit_transform(dicts)\n",
    "    \n",
    "    model.fit(X_train, y_train)\n",
    "    \n",
    "    return dv, model\n",
    "\n",
    "def predict_model(df: pd.DataFrame, dv: DictVectorizer, model: ScikitModel) -> pd.DataFrame:\n",
    "    \n",
    "    dicts = df.to_dict(orient=\"records\")\n",
    "    \n",
    "    X = dv.transform(dicts)\n",
    "    return model.predict_proba(X)[:, 1]"
   ]
  },
  {
   "cell_type": "code",
   "execution_count": 130,
   "metadata": {},
   "outputs": [
    {
     "name": "stdout",
     "output_type": "stream",
     "text": [
      "AUC: 0.996 +/- 0.003\n"
     ]
    }
   ],
   "source": [
    "from sklearn.model_selection import KFold\n",
    "\n",
    "kfold = KFold(n_splits=5, shuffle=True, random_state=1)\n",
    "\n",
    "auc_score_list = []\n",
    "\n",
    "for train_idx, valid_idx in kfold.split(df_full_train):\n",
    "    df_train = df_full_train.iloc[train_idx]\n",
    "    df_valid = df_full_train.iloc[valid_idx]\n",
    "    \n",
    "    y_train_cv = df_train.target.values\n",
    "    y_valid_cv = df_valid.target.values\n",
    "    \n",
    "    df_train = df_train[model_cols]\n",
    "    df_valid = df_valid[model_cols]\n",
    "    \n",
    "    model = LogisticRegression(solver='liblinear', C=1.0, max_iter=1000)\n",
    "    \n",
    "    dv, model = train_model(df_train, y_train_cv, model)\n",
    "    \n",
    "    y_pred = predict_model(df_valid, dv, model)\n",
    "    \n",
    "    auc_score_list.append(roc_auc_score(y_valid_cv, y_pred))\n",
    "\n",
    "print(f\"AUC: {np.mean(auc_score_list):.03f} +/- {np.std(auc_score_list):.03f}\")"
   ]
  },
  {
   "cell_type": "markdown",
   "metadata": {},
   "source": [
    "# 6) Question 6\n",
    "\n",
    "Now let's use 5-Fold cross-validation to find the best parameter C\n",
    "\n",
    "- Iterate over the following C values: [0.01, 0.1, 1, 10]\n",
    "- Initialize KFold with the same parameters as previously\n",
    "- Use these parametes for the model: LogisticRegression(solver='liblinear', C=C, max_iter=1000)\n",
    "- Compute the mean score as well as the std (round the mean and std to 3 decimal digits)\n",
    "\n",
    "Which C leads to the best mean score?\n",
    "\n",
    "- [ ] 0.01\n",
    "- [ ] 0.1\n",
    "- [X] 1\n",
    "- [ ] 10\n",
    "\n",
    "If you have ties, select the score with the lowest std. If you still have ties, select the smallest C."
   ]
  },
  {
   "cell_type": "code",
   "execution_count": 133,
   "metadata": {},
   "outputs": [
    {
     "name": "stdout",
     "output_type": "stream",
     "text": [
      "C = 0.01: 0.992 +/- 0.006\n",
      "C = 0.1: 0.995 +/- 0.004\n",
      "C = 1: 0.996 +/- 0.003\n",
      "C = 10: 0.996 +/- 0.003\n"
     ]
    }
   ],
   "source": [
    "from sklearn.model_selection import KFold\n",
    "\n",
    "\n",
    "kfold = KFold(n_splits=5, shuffle=True, random_state=1)\n",
    "\n",
    "auc_mean_cv, auc_std_cv = [], []\n",
    "\n",
    "C_list = [0.01, 0.1, 1, 10]\n",
    "\n",
    "for c_value in C_list:\n",
    "    auc_score_list = []\n",
    "    for train_idx, valid_idx in kfold.split(df_full_train):\n",
    "        df_train = df_full_train.iloc[train_idx]\n",
    "        df_valid = df_full_train.iloc[valid_idx]\n",
    "        \n",
    "        y_train_cv = df_train.target.values\n",
    "        y_valid_cv = df_valid.target.values\n",
    "        \n",
    "        df_train = df_train[model_cols]\n",
    "        df_valid = df_valid[model_cols]\n",
    "        \n",
    "        model = LogisticRegression(solver='liblinear', C=c_value, max_iter=1000)\n",
    "        \n",
    "        dv, model = train_model(df_train, y_train_cv, model)\n",
    "        \n",
    "        y_pred = predict_model(df_valid, dv, model)\n",
    "        \n",
    "        auc_score_list.append(roc_auc_score(y_valid_cv, y_pred))\n",
    "    auc_mean_cv.append(np.mean(auc_score_list))\n",
    "    auc_std_cv.append(np.std(auc_score_list))\n",
    "\n",
    "for c, mean, std in zip(C_list, auc_mean_cv, auc_std_cv):\n",
    "    print(f\"C = {c}: {mean:.03f} +/- {std:.03f}\")"
   ]
  },
  {
   "cell_type": "code",
   "execution_count": null,
   "metadata": {},
   "outputs": [],
   "source": []
  }
 ],
 "metadata": {
  "kernelspec": {
   "display_name": "Python 3.9.5 ('.venv': pipenv)",
   "language": "python",
   "name": "python3"
  },
  "language_info": {
   "codemirror_mode": {
    "name": "ipython",
    "version": 3
   },
   "file_extension": ".py",
   "mimetype": "text/x-python",
   "name": "python",
   "nbconvert_exporter": "python",
   "pygments_lexer": "ipython3",
   "version": "3.9.5"
  },
  "orig_nbformat": 4,
  "vscode": {
   "interpreter": {
    "hash": "7242ccf7628f9c66cdbdfa03a90f90c19c018e47f7f6a791338ab20705ef5de9"
   }
  }
 },
 "nbformat": 4,
 "nbformat_minor": 2
}
